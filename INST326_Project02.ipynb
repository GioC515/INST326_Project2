{
 "cells": [
  {
   "cell_type": "markdown",
   "id": "bc00dbc1",
   "metadata": {},
   "source": [
    "### Project 02: Create a GUI Notebook Program"
   ]
  },
  {
   "cell_type": "markdown",
   "id": "b3f87ffb",
   "metadata": {},
   "source": [
    "Giovanni Chen 3/25/24"
   ]
  },
  {
   "cell_type": "markdown",
   "id": "62110c98",
   "metadata": {},
   "source": [
    "Project 2 will adapt the procedural code we have been working on in INST326_SimpleGUI_Note_Form_IO.ipynb to create an OOP version of the program using three classes.\n",
    "\n",
    "    A Notebook or MainWindow class\n",
    "    A Form or TopWindow class\n",
    "    A Note class\n",
    "\n",
    "The MainWindow class is a subclass of Tkinter’s tk.Tk class and thus inherits its attributes and methods, while allowing us to customize the new window objects to our needs. These new window objects will represent “notebooks” or collections of notes, and allow us to work with those notes. (I have named it MainWindow because this class definition could be used to create any kind of main window in Tkinter. We are using it to represent notebooks in this application, but you might use it for other purposes in onther applications.)\n"
   ]
  },
  {
   "cell_type": "markdown",
   "id": "67692272",
   "metadata": {},
   "source": [
    "The TopWindow class creates a new top window in Tkinter, which is essentially a form for entering the title, text, links, and tags for our note. When we submit the note, this “form” object has a method that creates the note’s metadata and a new Note object. That note object is appended to the list of all notes, which is an attribute of the notebook (MainWindow) class.\n",
    "The Note class creates note objects that contain the  title, text, links, tags, and metadata for each note.\n",
    "\n",
    "For Project 02 you will:  \n",
    "\n",
    "    1. Create one notebook or MainWindow object  \n",
    "    2. Create several (at least 3) ‘real’ notes for your final submission. By ‘real’ I mean actual notes about python that are useful to you. Print them in the cell at the bottom of the notebook.\n",
    "    3. Save those notes to a single .txt, .csv, or .json file (your choice of format).  \n",
    "    4. Retrieve those notes and \n",
    "    5. Display representations of them as either labels or buttons in the  main window (remember how we displayed cards in project 01). These representations are not whole notes. Rather, they are object representations of the notes.  \n",
    "    6. When they are clicked the whole note pops up in a new window - either the form window or a ‘read-only’ version of the form window.\n",
    "\n"
   ]
  },
  {
   "cell_type": "markdown",
   "id": "cd7630c0",
   "metadata": {},
   "source": [
    "#### Complete your code in the cell below"
   ]
  },
  {
   "cell_type": "markdown",
   "id": "50f0a965",
   "metadata": {},
   "source": [
    "The code cell below contains the imports you will need; the top level structure for the three classes to get you started; and the execution code at the bottom. "
   ]
  },
  {
   "cell_type": "code",
   "execution_count": null,
   "id": "50cdd4a1-ad98-4e84-baea-9151bb71b6d6",
   "metadata": {},
   "outputs": [],
   "source": [
    "#imports\n",
    "import tkinter as tk\n",
    "from tkinter import ttk\n",
    "from tkinter import messagebox\n",
    "from tkinter import filedialog  # Add import for filedialog module\n",
    "\n",
    "# The MainWindow class creates a custom GUI window based on the tkinter window (tk.Tk)\n",
    "# It has an __init__() method, and three additional methods (new_note(), open_notebook(), and save_notebook())\n",
    "# These methods correspond to new, open, and save buttons in the window.\n",
    "# The new_note method calls the NoteForm class to create a new note form top level window.\n",
    "\n",
    "\n",
    "class MainWindow(tk.Tk):\n",
    "    def __init__(self):\n",
    "        super().__init__()\n",
    "        self.geometry(\"600x400\")\n",
    "        self.title('Gios Notebook')\n",
    "        self.notebook = []\n",
    "        self.notes = []\n",
    "\n",
    "        title_label = tk.Label(self, bg='light gray', text='Note Title:')\n",
    "        title_label.grid(padx=10, pady=10, row=1, column=0, sticky='e')\n",
    "\n",
    "        text_label = tk.Label(self, bg='light gray', text='Note Text:')\n",
    "        text_label.grid(padx=10, pady=10, row=2, column=0, sticky='e')\n",
    "\n",
    "        self.note_title = tk.Entry(self, width=80)\n",
    "        self.note_title.grid(padx=10, pady=10, row=1, column=1, sticky='w')\n",
    "        self.note_title.insert(0, 'New note title')\n",
    "\n",
    "        self.note_text = tk.Text(self, height=10, width=60)\n",
    "        self.note_text.grid(padx=10, pady=10, row=2, column=1)\n",
    "        self.note_text.insert('1.0', 'Enter note text here')\n",
    "\n",
    "        self.submit_button = tk.Button(self, text='submit', command=self.submit)\n",
    "        self.submit_button.grid(padx=10, pady=10, row=3, column=1, sticky='w')\n",
    "\n",
    "        self.open_button = tk.Button(self, text='open file', command=self.open_notebook)\n",
    "        self.open_button.grid(padx=10, pady=10, row=4, column=1, sticky='w')\n",
    "\n",
    "        self.save_button = tk.Button(self, text='save file', command=self.save_notebook)\n",
    "        self.save_button.grid(padx=10, pady=10, row=4, column=0)\n",
    "\n",
    "        self.quit_button = tk.Button(self, text='quit', command=self.destroy)\n",
    "        self.quit_button.grid(padx=10, pady=10, row=3, column=0)\n",
    "\n",
    "    def submit(self):\n",
    "        title = self.note_title.get()\n",
    "        text = self.note_text.get('1.0', tk.END)\n",
    "        if title.strip() == '':\n",
    "            messagebox.showwarning(\"You have to enter a title.\")\n",
    "        else:\n",
    "            self.note_title.delete(0, tk.END)\n",
    "            self.note_text.delete('1.0', tk.END)\n",
    "            note_window = NoteForm(self, title, text)\n",
    "\n",
    "    def open_notebook(self):\n",
    "        filename = filedialog.askopenfilename(filetypes=[(\"Text Files\", \"*.txt\"), (\"All Files\", \"*.*\")])\n",
    "        if filename:\n",
    "            with open(filename, \"r\") as file:\n",
    "                for line in file:\n",
    "                    self.notes.append(line.strip())\n",
    "            self.display_note_buttons()\n",
    "\n",
    "    def save_notebook(self):\n",
    "        filename = filedialog.asksaveasfilename(defaultextension=\".txt\", filetypes=[(\"Text Files\", \"*.txt\"), (\"All Files\", \"*.*\")])\n",
    "        if filename:\n",
    "            with open(filename, \"w\") as file:\n",
    "                for note in self.notes:\n",
    "                    file.write(note + \"\\n\")\n",
    "\n",
    "    def display_note_buttons(self):\n",
    "        for i, note in enumerate(self.notes):\n",
    "            button = tk.Button(self, text=f\"Note {i+1}\", command=lambda note=note: self.display_full_note(note))\n",
    "            button.grid(padx=10, pady=5, row=i+5, column=0, columnspan=2, sticky='we')\n",
    "\n",
    "    def display_full_note(self, note):\n",
    "        popup = tk.Toplevel()\n",
    "        popup.title(\"Note\")\n",
    "        label = tk.Label(popup, text=note)\n",
    "        label.pack()\n",
    "        button = tk.Button(popup, text=\"Close\", command=popup.destroy)\n",
    "        button.pack()\n",
    "\n",
    "# the NoteForm() class creates a Toplevel window that is a note form containing fields for\n",
    "# data entry for title, text, link, and tags. It also calculates a meta field with date, time, and timezone\n",
    "# the Noteform class has an __init__() method, and a submit() method that is called by a submit button\n",
    "# the class may contain additional methods to perform tasks like calculating the metadata, for example\n",
    "# the submit method calls the MakeNote class that transforms the the entered data into a new note object.\n",
    "        \n",
    "class NoteForm(tk.Toplevel):\n",
    "    def __init__(self, master, title, text):\n",
    "        super().__init__(master)\n",
    "\n",
    "        self.title_label = tk.Label(self, text=f'Note Title: {title}')\n",
    "        self.title_label.pack()\n",
    "\n",
    "        self.text_label = tk.Label(self, text=f'Note Text:\\n{text}')\n",
    "        self.text_label.pack()\n",
    "\n",
    "        self.submit_button = tk.Button(self, text='Close', command=self.destroy)\n",
    "        self.submit_button.pack()\n",
    "\n",
    "#main execution\n",
    "if __name__ == '__main__':\n",
    "    main_window = MainWindow()\n",
    "    main_window.mainloop()\n"
   ]
  },
  {
   "cell_type": "markdown",
   "id": "c50d5149",
   "metadata": {},
   "source": [
    "#### Print your three notes below"
   ]
  },
  {
   "cell_type": "code",
   "execution_count": 3,
   "id": "dd1811bf",
   "metadata": {},
   "outputs": [],
   "source": [
    "# print your notes here\n",
    "\n",
    "#Note 1: Title: opening/close files in python \n",
    "#Text: To open and close a file in python, use the open() function to initiate file operations and specify the file name and access mode. \n",
    "#Access modes include read-only (“r”), read and write(“r+”), write- only (“w”), write and read (w+), append-only (“a”), and append and read (“a+”). \n",
    "#The file should exist in the same directory as the Python script unless specifying the full file path. After, make sure to close the file using the close() method to prevent unintended modifications. \n",
    "\n",
    "#Note 2: Title: Working directory\n",
    "#import os \n",
    "#os.getcwd() # get's current working directory.\n",
    "#os.listdir() # makes a list of visible files in directory.\n",
    "#os.chdir(path) # change's current working directory.\n",
    "\n",
    "\n",
    "#Note 3: Helpful Git Commands:\n",
    "#Git init -> initialize new git repository\n",
    "#Git clone[ur] -> clone repository to local computer\n",
    "#Git commit -m -> commit changes to local repository\n",
    "#Git branch -> list branches \n",
    "#Git push [branch_name] -> push commits from local to repository\n",
    "#Git remove -v -> list all remote repositories"
   ]
  },
  {
   "cell_type": "code",
   "execution_count": null,
   "id": "a45a0e8e-1bc3-404e-b52d-b4dbe75fba29",
   "metadata": {},
   "outputs": [],
   "source": []
  }
 ],
 "metadata": {
  "kernelspec": {
   "display_name": "Python 3 (ipykernel)",
   "language": "python",
   "name": "python3"
  },
  "language_info": {
   "codemirror_mode": {
    "name": "ipython",
    "version": 3
   },
   "file_extension": ".py",
   "mimetype": "text/x-python",
   "name": "python",
   "nbconvert_exporter": "python",
   "pygments_lexer": "ipython3",
   "version": "3.9.13"
  }
 },
 "nbformat": 4,
 "nbformat_minor": 5
}
